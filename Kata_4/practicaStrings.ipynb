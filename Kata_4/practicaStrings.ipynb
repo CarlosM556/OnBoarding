{
 "cells": [
  {
   "cell_type": "markdown",
   "metadata": {},
   "source": [
    "# Ejercicio 1"
   ]
  },
  {
   "cell_type": "code",
   "execution_count": null,
   "metadata": {},
   "outputs": [],
   "source": [
    "text = \"\"\"Interesting facts about the Moon. The Moon is Earth's only satellite. There are several interesting facts about the Moon and how it affects life here on Earth. \n",
    "On average, the Moon moves 4cm away from the Earth every year. This yearly drift is not significant enough to cause immediate effects on Earth. The highest daylight temperature of the Moon is 127 C.\"\"\"\n",
    "\n",
    "textOracion = text.split(\". \")\n",
    "\n",
    "palabrasClave = ['average', 'temperature', 'distance']\n",
    "\n",
    "for i in textOracion:\n",
    "    for palabraClave in palabrasClave:\n",
    "        if palabraClave in i:\n",
    "            print(i)\n",
    "\n",
    "for i in textOracion:\n",
    "    for palabraClave in palabrasClave:\n",
    "        if palabraClave in i:\n",
    "            print(i.replace(' C', ' Celsius'))"
   ]
  },
  {
   "cell_type": "markdown",
   "metadata": {},
   "source": [
    "# Ejercicio 2"
   ]
  },
  {
   "cell_type": "code",
   "execution_count": 5,
   "metadata": {},
   "outputs": [
    {
     "name": "stdout",
     "output_type": "stream",
     "text": [
      "Gravity Facts On Moon\n",
      "Planet Name: Earth\n",
      "Gravity on Moon: 1.6199999999999999 m/s2 \n",
      "\n",
      "Planet Name: Earth\n",
      "Gravity on Moon: 1.6199999999999999 m/s2\n",
      "Gravity Facts On Moon\n",
      "Planet Name: Earth\n",
      "Gravity on Moon: 1.6199999999999999 m/s2\n"
     ]
    }
   ],
   "source": [
    "# Datos con los que vas a trabajar\n",
    "name = \"Moon\"\n",
    "gravity = 0.00162 # in kms\n",
    "planet = \"Earth\"\n",
    "\n",
    "title = 'Gravity facts on {}'.format(name)\n",
    "\n",
    "facts = '''Planet Name: {}\n",
    "Gravity on {}: {} m/s2'''.format(planet,name, gravity*1000)\n",
    "\n",
    "template = '''{}\n",
    "{}'''.format(title.title(), facts)\n",
    "\n",
    "print(template,\"\\n\")\n",
    "\n",
    "# Datos con los que vas a trabajar\n",
    "planet = 'Marte '\n",
    "gravity  = 0.00143\n",
    "name = 'Ganímedes'\n",
    "\n",
    "print(facts)\n",
    "\n",
    "template = '''{}\n",
    "{}'''.format(title.title(), facts)\n",
    "\n",
    "print(template)\n"
   ]
  }
 ],
 "metadata": {
  "interpreter": {
   "hash": "b6e3ed6cd9b15a6542b09432bbdc2acaf05ac7ef50e9746dea67346cee97dfd9"
  },
  "kernelspec": {
   "display_name": "Python 3.10.2 64-bit",
   "language": "python",
   "name": "python3"
  },
  "language_info": {
   "codemirror_mode": {
    "name": "ipython",
    "version": 3
   },
   "file_extension": ".py",
   "mimetype": "text/x-python",
   "name": "python",
   "nbconvert_exporter": "python",
   "pygments_lexer": "ipython3",
   "version": "3.10.2"
  },
  "orig_nbformat": 4
 },
 "nbformat": 4,
 "nbformat_minor": 2
}
