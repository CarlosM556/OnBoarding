{
 "cells": [
  {
   "cell_type": "markdown",
   "metadata": {},
   "source": [
    "# Práctica 1"
   ]
  },
  {
   "cell_type": "code",
   "execution_count": 9,
   "metadata": {},
   "outputs": [
    {
     "name": "stdout",
     "output_type": "stream",
     "text": [
      "Se aprocima un asteroide inofensivo a la tierra a una velocidad de 19 km/s\n"
     ]
    }
   ],
   "source": [
    "# Añadir el código necesario para crear una variable que guarde la velocidad del asteroide.\n",
    "# Escribe una expresión de prueba para calcular si necesita una advertencia.\n",
    "# Agregue las instrucciones que se ejecutarán si la expresión de prueba es true o false.\n",
    "\n",
    "asteroide = 19\n",
    "\n",
    "if asteroide > 25:\n",
    "    print(\"Un asteroide se aproxima a la tierra a una velocidad de\", asteroide, \"km/s\")\n",
    "# Agrega el código para crear una variable para un asteroide que viaja a 19 km/s\n",
    "# Escribe varias expresiones de prueba para determinar si puedes ver el rayo de luz desde la tierra\n",
    "# Agrega las instrucciones que se ejecutarán si las expresiones de prueba son True o False\n",
    "elif asteroide >= 20:\n",
    "    print(\"Hay una luz mágica en el cielo!, Hay un asteroide que se dirige a la tierra a una velocidad de\", asteroide, \"km/s\")\n",
    "else:\n",
    "    print(\"Se aproxima un asteroide inofensivo a la tierra a una velocidad de\", asteroide, \"km/s\")\n"
   ]
  },
  {
   "cell_type": "markdown",
   "metadata": {},
   "source": [
    "# Práctica 2"
   ]
  },
  {
   "cell_type": "code",
   "execution_count": 19,
   "metadata": {},
   "outputs": [
    {
     "name": "stdout",
     "output_type": "stream",
     "text": [
      "No hay nada que ver aquí\n"
     ]
    }
   ],
   "source": [
    "# Agrega el código para crear nuevas variables para la velocidad y el tamaño del asteroide\n",
    "# Para probar el código, prueba con varias velocidades y tamaños\n",
    "# Escribe varias expresiones de prueba o combinaciones de expresiones de prueba para determinar qué mensaje se debe enviar a Tierra.\n",
    "\n",
    "velAsteroide = 19\n",
    "tamAsteroide = 25\n",
    "\n",
    "if tamAsteroide > 25 and velAsteroide > 25:\n",
    "    print(\"Un asteroide de gran tamaño se aproxima a la tierra a una velocidad de\", velAsteroide, \"km/s\")\n",
    "elif velAsteroide >= 20:\n",
    "    print(\"Hay una luz mágica en el cielo!, Hay un asteroide que se dirige a la tierra a una velocidad de\", velAsteroide, \"km/s\")\n",
    "elif tamAsteroide < 25:\n",
    "    print(\"No hay nada que ver aquí\")\n",
    "else:\n",
    "    print(\"No hay nada que ver aquí\")\n"
   ]
  }
 ],
 "metadata": {
  "interpreter": {
   "hash": "b6e3ed6cd9b15a6542b09432bbdc2acaf05ac7ef50e9746dea67346cee97dfd9"
  },
  "kernelspec": {
   "display_name": "Python 3.10.2 64-bit",
   "language": "python",
   "name": "python3"
  },
  "language_info": {
   "codemirror_mode": {
    "name": "ipython",
    "version": 3
   },
   "file_extension": ".py",
   "mimetype": "text/x-python",
   "name": "python",
   "nbconvert_exporter": "python",
   "pygments_lexer": "ipython3",
   "version": "3.10.2"
  },
  "orig_nbformat": 4
 },
 "nbformat": 4,
 "nbformat_minor": 2
}
